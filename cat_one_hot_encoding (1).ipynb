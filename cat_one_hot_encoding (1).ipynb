{
 "cells": [
  {
   "cell_type": "code",
   "execution_count": 2,
   "metadata": {},
   "outputs": [
    {
     "name": "stdout",
     "output_type": "stream",
     "text": [
      "<class 'pandas.core.frame.DataFrame'>\n",
      "RangeIndex: 16598 entries, 0 to 16597\n",
      "Data columns (total 11 columns):\n",
      " #   Column        Non-Null Count  Dtype  \n",
      "---  ------        --------------  -----  \n",
      " 0   Rank          16598 non-null  int64  \n",
      " 1   Name          16598 non-null  object \n",
      " 2   Platform      16598 non-null  object \n",
      " 3   Year          16327 non-null  float64\n",
      " 4   Genre         16598 non-null  object \n",
      " 5   Publisher     16540 non-null  object \n",
      " 6   NA_Sales      16598 non-null  float64\n",
      " 7   EU_Sales      16598 non-null  float64\n",
      " 8   JP_Sales      16598 non-null  float64\n",
      " 9   Other_Sales   16598 non-null  float64\n",
      " 10  Global_Sales  16598 non-null  float64\n",
      "dtypes: float64(6), int64(1), object(4)\n",
      "memory usage: 1.4+ MB\n",
      "Data Cleaning Summary: {'Duplicates Removed': np.int64(0), 'Missing Values (Post-Cleaning)': {'Rank': 0, 'Name': 0, 'Platform': 0, 'Year': 0, 'Genre': 0, 'Publisher': 0, 'NA_Sales': 0, 'EU_Sales': 0, 'JP_Sales': 0, 'Other_Sales': 0, 'Global_Sales': 0}}\n",
      "Descriptive Statistics:                Rank          Year      NA_Sales      EU_Sales      JP_Sales  \\\n",
      "count  16598.000000  16598.000000  16598.000000  16598.000000  16598.000000   \n",
      "mean    8300.605254   2006.416134      0.264667      0.146652      0.077782   \n",
      "std     4791.853933      5.781686      0.816683      0.505351      0.309291   \n",
      "min        1.000000   1980.000000      0.000000      0.000000      0.000000   \n",
      "25%     4151.250000   2003.000000      0.000000      0.000000      0.000000   \n",
      "50%     8300.500000   2007.000000      0.080000      0.020000      0.000000   \n",
      "75%    12449.750000   2010.000000      0.240000      0.110000      0.040000   \n",
      "max    16600.000000   2020.000000     41.490000     29.020000     10.220000   \n",
      "\n",
      "        Other_Sales  Global_Sales  \n",
      "count  16598.000000  16598.000000  \n",
      "mean       0.048063      0.537441  \n",
      "std        0.188588      1.555028  \n",
      "min        0.000000      0.010000  \n",
      "25%        0.000000      0.060000  \n",
      "50%        0.010000      0.170000  \n",
      "75%        0.040000      0.470000  \n",
      "max       10.570000     82.740000  \n"
     ]
    }
   ],
   "source": [
    "# Data Cleaning\n",
    "import pandas as pd\n",
    "import matplotlib.pyplot as plt\n",
    "import seaborn as sns\n",
    "\n",
    "\n",
    "#vg_sales = pd.read_csv('/Users/melinda_zxy/Desktop/EMORY/senior/QTM 347/vgsales.csv')\n",
    "vg_sales = pd.read_csv('/Users/dell/Desktop/QTM_347/final/vgsales.csv')\n",
    "vg_sales.head()\n",
    "vg_sales.info()\n",
    "\n",
    "duplicates = vg_sales.duplicated().sum()\n",
    "\n",
    "# Handle missing values： “Year” and “Publisher”\n",
    "vg_sales['Year'] = vg_sales['Year'].fillna(vg_sales['Year'].median())\n",
    "vg_sales['Publisher'] = vg_sales['Publisher'].fillna('Unknown')\n",
    "vg_sales['Year'] = vg_sales['Year'].astype(int)\n",
    "\n",
    "cleaned_summary = {\n",
    "    \"Duplicates Removed\": duplicates,\n",
    "    \"Missing Values (Post-Cleaning)\": vg_sales.isnull().sum().to_dict(),\n",
    "}\n",
    "\n",
    "descriptive_stats = vg_sales.describe()\n",
    "\n",
    "print(\"Data Cleaning Summary:\", cleaned_summary)\n",
    "print(\"Descriptive Statistics:\", descriptive_stats)\n"
   ]
  },
  {
   "cell_type": "markdown",
   "metadata": {},
   "source": [
    "Jessie note: I want to utilize the categorical data as well. To do that, We need to get rid of a lot of the publishers and apply one hot encoding\n",
    "\n",
    "Notation dictionary:\n",
    "\n",
    "vg_sales_new = df that selected the publishers -> use this for analytics\n",
    "vg_sales_unwanted = df that contains the games that contain the less popular publishers, just for the sake of double checking\n",
    "vg_sales_encoded = df that chose the top 10% publisher,and have been encoded\n",
    "vg_sales_ready = all numerical columns, dropped the original categorical columns and rank and name -> use this for machine learning \n"
   ]
  },
  {
   "cell_type": "code",
   "execution_count": 3,
   "metadata": {},
   "outputs": [
    {
     "name": "stdout",
     "output_type": "stream",
     "text": [
      "                count      mean       std   min   25%   50%   75%    max  Mode\n",
      "NA_Sales      16598.0  0.264667  0.816683  0.00  0.00  0.08  0.24  41.49  0.00\n",
      "EU_Sales      16598.0  0.146652  0.505351  0.00  0.00  0.02  0.11  29.02  0.00\n",
      "JP_Sales      16598.0  0.077782  0.309291  0.00  0.00  0.00  0.04  10.22  0.00\n",
      "Other_Sales   16598.0  0.048063  0.188588  0.00  0.00  0.01  0.04  10.57  0.00\n",
      "Global_Sales  16598.0  0.537441  1.555028  0.01  0.06  0.17  0.47  82.74  0.02\n"
     ]
    }
   ],
   "source": [
    "#To get an idea of the values of sales\n",
    "sales_data = vg_sales[['NA_Sales','EU_Sales',\"JP_Sales\",'Other_Sales','Global_Sales']]\n",
    "\n",
    "summary_table = sales_data.describe().transpose()\n",
    "\n",
    "summary_table['Mode'] = sales_data.mode().iloc[0]  # Taking the first mode for each column\n",
    "\n",
    "print(summary_table)"
   ]
  },
  {
   "cell_type": "code",
   "execution_count": 4,
   "metadata": {},
   "outputs": [
    {
     "name": "stdout",
     "output_type": "stream",
     "text": [
      "Unique count for publisher ': 578\n"
     ]
    }
   ],
   "source": [
    "unique_count = vg_sales['Publisher'].nunique()\n",
    "print(f\"Unique count for publisher ': {unique_count}\")\n"
   ]
  },
  {
   "cell_type": "markdown",
   "metadata": {},
   "source": [
    "We need to convert categorical data into encoded columns. However, we have noticed that the publisher column has too many categories. For the sake of simplicity of the project. "
   ]
  },
  {
   "cell_type": "code",
   "execution_count": 5,
   "metadata": {},
   "outputs": [
    {
     "name": "stdout",
     "output_type": "stream",
     "text": [
      "                        Publisher  Frequency   Percent\n",
      "0                 Electronic Arts       1351  8.139535\n",
      "1                      Activision        975  5.874202\n",
      "2              Namco Bandai Games        932  5.615134\n",
      "3                         Ubisoft        921  5.548861\n",
      "4    Konami Digital Entertainment        832  5.012652\n",
      "..                            ...        ...       ...\n",
      "573                          Warp          1  0.006025\n",
      "574                           New          1  0.006025\n",
      "575                         Elite          1  0.006025\n",
      "576               Evolution Games          1  0.006025\n",
      "577             UIG Entertainment          1  0.006025\n",
      "\n",
      "[578 rows x 3 columns]\n"
     ]
    }
   ],
   "source": [
    "# Calculate frequency and percentage\n",
    "freq_pub = vg_sales['Publisher'].value_counts().reset_index()\n",
    "freq_pub.columns = ['Publisher', 'Frequency']\n",
    "freq_pub['Percent'] = (freq_pub['Frequency'] / len(vg_sales)) * 100\n",
    "\n",
    "freq_year = freq_pub.sort_values(by='Frequency', ascending=False).reset_index(drop=True)\n",
    "\n",
    "print(freq_pub)\n"
   ]
  },
  {
   "cell_type": "code",
   "execution_count": 6,
   "metadata": {},
   "outputs": [
    {
     "name": "stdout",
     "output_type": "stream",
     "text": [
      "             Publisher  Frequency   Percent\n",
      "46   DTP Entertainment         45  0.271117\n",
      "47      GT Interactive         45  0.271117\n",
      "48           Destineer         45  0.271117\n",
      "49           Alchemist         43  0.259067\n",
      "50           MTV Games         41  0.247018\n",
      "51               PQube         39  0.234968\n",
      "52         Global Star         39  0.234968\n",
      "53         Takara Tomy         37  0.222918\n",
      "54     SouthPeak Games         37  0.222918\n",
      "55               Spike         37  0.222918\n",
      "56      TDK Mediactive         36  0.216894\n",
      "57                 3DO         36  0.216894\n",
      "58        Nordic Games         35  0.210869\n",
      "59  BAM! Entertainment         35  0.210869\n",
      "60    Black Bean Games         34  0.204844\n",
      "61           Zoo Games         33  0.198819\n",
      "62        Game Factory         32  0.192794\n",
      "63           Psygnosis         32  0.192794\n",
      "64           Mindscape         32  0.192794\n"
     ]
    }
   ],
   "source": [
    "filtered_freq_pub = freq_pub[(freq_pub['Frequency'] > 30) & (freq_pub['Frequency'] < 50)]\n",
    "\n",
    "print(filtered_freq_pub)"
   ]
  },
  {
   "cell_type": "code",
   "execution_count": 7,
   "metadata": {},
   "outputs": [
    {
     "name": "stdout",
     "output_type": "stream",
     "text": [
      "         Statistic  Percentage\n",
      "0             Mean    0.173010\n",
      "1           Median    0.018074\n",
      "2  Top 10% Percent    0.212676\n"
     ]
    }
   ],
   "source": [
    "mean_percent = freq_pub['Percent'].mean()\n",
    "median_percent = freq_pub['Percent'].median()\n",
    "percentile_90 = freq_pub['Percent'].quantile(0.90)\n",
    "\n",
    "# Create a summary table\n",
    "summary_table = pd.DataFrame({\n",
    "    'Statistic': ['Mean', 'Median','Top 10% Percent'],\n",
    "    'Percentage': [mean_percent, median_percent,percentile_90]\n",
    "})\n",
    "print(summary_table)\n",
    "\n",
    "\n",
    "#top 75% is 0.06, 10 games"
   ]
  },
  {
   "cell_type": "markdown",
   "metadata": {},
   "source": [
    "We will be using a cut-off threshold of 0.21%, which is the top10% publisher based on number of games they have produced. This also the selected larger publishers published more than 35 games.\n"
   ]
  },
  {
   "cell_type": "code",
   "execution_count": 8,
   "metadata": {},
   "outputs": [
    {
     "name": "stdout",
     "output_type": "stream",
     "text": [
      "(60, 3)\n"
     ]
    }
   ],
   "source": [
    "selected_publisher = freq_pub[freq_pub['Percent'] > 0.21]\n",
    "print(selected_publisher.shape)\n",
    "\n",
    "unwanted_publisher=freq_pub[freq_pub['Percent']<=0.21]"
   ]
  },
  {
   "cell_type": "markdown",
   "metadata": {},
   "source": [
    "defining the rank categories"
   ]
  },
  {
   "cell_type": "code",
   "execution_count": 9,
   "metadata": {},
   "outputs": [
    {
     "name": "stdout",
     "output_type": "stream",
     "text": [
      "   Rank Rank_Category\n",
      "0     1     Very High\n",
      "1     2     Very High\n",
      "2     3     Very High\n",
      "3     4     Very High\n",
      "4     5     Very High\n"
     ]
    },
    {
     "data": {
      "text/plain": [
       "0        Very High\n",
       "1        Very High\n",
       "2        Very High\n",
       "3        Very High\n",
       "4        Very High\n",
       "           ...    \n",
       "16593     Very Low\n",
       "16594     Very Low\n",
       "16595     Very Low\n",
       "16596     Very Low\n",
       "16597     Very Low\n",
       "Name: Rank_Category, Length: 16598, dtype: category\n",
       "Categories (5, object): ['Very High' < 'High' < 'Medium' < 'Low' < 'Very Low']"
      ]
     },
     "execution_count": 9,
     "metadata": {},
     "output_type": "execute_result"
    }
   ],
   "source": [
    "vg_sales[\"Rank\"]\n",
    "import pandas as pd\n",
    "\n",
    "# Assuming vg_sales is the dataset and it contains the 'Rank' column\n",
    "\n",
    "# Define the categories and their labels\n",
    "rank_categories = ['Very High', 'High', 'Medium', 'Low', 'Very Low']\n",
    "\n",
    "# Categorize 'Rank' into five categories based on quantiles\n",
    "vg_sales['Rank_Category'] = pd.qcut(\n",
    "    vg_sales['Rank'], \n",
    "    q=5, \n",
    "    labels=rank_categories\n",
    ")\n",
    "\n",
    "# Display the first few rows to verify the categorization\n",
    "print(vg_sales[['Rank', 'Rank_Category']].head())\n",
    "vg_sales[\"Rank_Category\"]"
   ]
  },
  {
   "cell_type": "code",
   "execution_count": 10,
   "metadata": {},
   "outputs": [
    {
     "data": {
      "text/plain": [
       "(13806, 12)"
      ]
     },
     "execution_count": 10,
     "metadata": {},
     "output_type": "execute_result"
    }
   ],
   "source": [
    "vg_sales_new = vg_sales[vg_sales['Publisher'].isin(selected_publisher['Publisher'])]\n",
    "vg_sales.shape # 16598,11\n",
    "vg_sales_new.shape  # 13806,11\n",
    "# 15449,11 when top 25%"
   ]
  },
  {
   "cell_type": "code",
   "execution_count": 11,
   "metadata": {},
   "outputs": [],
   "source": [
    "# #check if there are very popular games in the unwanted publishers list  \n",
    "# vg_sales_unwanted = vg_sales[~vg_sales['Publisher'].isin(selected_publisher['Publisher'])]\n",
    "# vg_sales_unwanted_sorted = vg_sales_unwanted.sort_values(by='Global_Sales', ascending=False)\n",
    "# print(vg_sales_unwanted_sorted.head)\n"
   ]
  },
  {
   "cell_type": "code",
   "execution_count": 12,
   "metadata": {},
   "outputs": [],
   "source": [
    "# #pie chart by region  and publisher\n",
    "\n",
    "# import matplotlib.pyplot as plt\n",
    "\n",
    "# # Grouping data by Publisher and summing up sales columns\n",
    "# sales_by_publisher = vg_sales.groupby('Publisher')[['NA_Sales', 'EU_Sales', 'JP_Sales', 'Other_Sales']].sum()\n",
    "\n",
    "# # Re-plotting with all data included but omitting titles for publishers with <5%\n",
    "# for region in regions:\n",
    "#     # Sorting by descending proportion for the current region\n",
    "#     sorted_sales = sales_by_publisher[region].sort_values(ascending=False)\n",
    "    \n",
    "#     # Generate labels but omit the title for publishers contributing < 5%\n",
    "#     total_sales = sorted_sales.sum()\n",
    "#     labels = [\n",
    "#         pub if sales / total_sales >= 0.05 else \"\"\n",
    "#         for pub, sales in sorted_sales.items()\n",
    "#     ]\n",
    "    \n",
    "#     # Plotting the pie chart\n",
    "#     plt.figure(figsize=(6, 6))\n",
    "#     plt.pie(\n",
    "#         sorted_sales,\n",
    "#         labels=labels,\n",
    "#         autopct='%1.1f%%',\n",
    "#         startangle=90\n",
    "#     )\n",
    "#     plt.title(f\"{region} by Publisher\")\n",
    "#     plt.show()\n"
   ]
  },
  {
   "cell_type": "code",
   "execution_count": 13,
   "metadata": {},
   "outputs": [],
   "source": [
    "from sklearn.preprocessing import OneHotEncoder\n"
   ]
  },
  {
   "cell_type": "code",
   "execution_count": 14,
   "metadata": {},
   "outputs": [
    {
     "name": "stdout",
     "output_type": "stream",
     "text": [
      "Index(['Rank', 'Name', 'Platform', 'Year', 'Genre', 'Publisher', 'NA_Sales',\n",
      "       'EU_Sales', 'JP_Sales', 'Other_Sales',\n",
      "       ...\n",
      "       'Platform_SAT', 'Platform_SCD', 'Platform_SNES', 'Platform_TG16',\n",
      "       'Platform_WS', 'Platform_Wii', 'Platform_WiiU', 'Platform_X360',\n",
      "       'Platform_XB', 'Platform_XOne'],\n",
      "      dtype='object', length=114)\n"
     ]
    }
   ],
   "source": [
    "encoder = OneHotEncoder(sparse_output=False)  # Use `sparse_output=False` for an array output\n",
    "onehotarray = encoder.fit_transform(vg_sales_new[[\"Publisher\", \"Genre\", \"Platform\"]])\n",
    "\n",
    "encoded_categories = []\n",
    "for col, categories in zip([\"Publisher\", \"Genre\", \"Platform\"], encoder.categories_):\n",
    "    encoded_categories.extend([f\"{col}_{cat}\" for cat in categories])\n",
    "\n",
    "# Create a new DataFrame with the encoded columns\n",
    "encoded_df = pd.DataFrame(onehotarray, columns=encoded_categories, index=vg_sales_new.index)\n",
    "\n",
    "# Combine the original dataset with the encoded columns into a new dataset\n",
    "vg_sales_encoded = pd.concat([vg_sales_new, encoded_df], axis=1)\n",
    "\n",
    "\n",
    "print(vg_sales_encoded.columns)\n",
    "#shape 13806,113"
   ]
  },
  {
   "cell_type": "code",
   "execution_count": 15,
   "metadata": {},
   "outputs": [
    {
     "name": "stdout",
     "output_type": "stream",
     "text": [
      "['Rank', 'Name', 'Platform', 'Year', 'Genre', 'Publisher', 'NA_Sales', 'EU_Sales', 'JP_Sales', 'Other_Sales', 'Global_Sales', 'Rank_Category', 'Publisher_3DO', 'Publisher_505 Games', 'Publisher_5pb', 'Publisher_Acclaim Entertainment', 'Publisher_Activision', 'Publisher_Alchemist', 'Publisher_Atari', 'Publisher_Atlus', 'Publisher_BAM! Entertainment', 'Publisher_Banpresto', 'Publisher_Bethesda Softworks', 'Publisher_Capcom', 'Publisher_Codemasters', 'Publisher_Crave Entertainment', 'Publisher_D3Publisher', 'Publisher_DTP Entertainment', 'Publisher_Deep Silver', 'Publisher_Destineer', 'Publisher_Disney Interactive Studios', 'Publisher_Eidos Interactive', 'Publisher_Electronic Arts', 'Publisher_Empire Interactive', 'Publisher_Focus Home Interactive', 'Publisher_GT Interactive', 'Publisher_Global Star', 'Publisher_Hudson Soft', 'Publisher_Idea Factory', 'Publisher_Ignition Entertainment', 'Publisher_Infogrames', 'Publisher_Kadokawa Shoten', 'Publisher_Konami Digital Entertainment', 'Publisher_LucasArts', 'Publisher_MTV Games', 'Publisher_Majesco Entertainment', 'Publisher_Marvelous Interactive', 'Publisher_Microsoft Game Studios', 'Publisher_Midway Games', 'Publisher_Namco Bandai Games', 'Publisher_Nintendo', 'Publisher_Nippon Ichi Software', 'Publisher_Nordic Games', 'Publisher_PQube', 'Publisher_Rising Star Games', 'Publisher_Sega', 'Publisher_Sony Computer Entertainment', 'Publisher_SouthPeak Games', 'Publisher_Spike', 'Publisher_Square Enix', 'Publisher_SquareSoft', 'Publisher_TDK Mediactive', 'Publisher_THQ', 'Publisher_Takara Tomy', 'Publisher_Take-Two Interactive', 'Publisher_Tecmo Koei', 'Publisher_Ubisoft', 'Publisher_Unknown', 'Publisher_Virgin Interactive', 'Publisher_Vivendi Games', 'Publisher_Warner Bros. Interactive Entertainment', 'Publisher_Zoo Digital Publishing', 'Genre_Action', 'Genre_Adventure', 'Genre_Fighting', 'Genre_Misc', 'Genre_Platform', 'Genre_Puzzle', 'Genre_Racing', 'Genre_Role-Playing', 'Genre_Shooter', 'Genre_Simulation', 'Genre_Sports', 'Genre_Strategy', 'Platform_2600', 'Platform_3DO', 'Platform_3DS', 'Platform_DC', 'Platform_DS', 'Platform_GB', 'Platform_GBA', 'Platform_GC', 'Platform_GEN', 'Platform_GG', 'Platform_N64', 'Platform_NES', 'Platform_NG', 'Platform_PC', 'Platform_PS', 'Platform_PS2', 'Platform_PS3', 'Platform_PS4', 'Platform_PSP', 'Platform_PSV', 'Platform_SAT', 'Platform_SCD', 'Platform_SNES', 'Platform_TG16', 'Platform_WS', 'Platform_Wii', 'Platform_WiiU', 'Platform_X360', 'Platform_XB', 'Platform_XOne']\n"
     ]
    }
   ],
   "source": [
    "print(list(vg_sales_encoded.columns))\n"
   ]
  },
  {
   "cell_type": "code",
   "execution_count": 16,
   "metadata": {},
   "outputs": [
    {
     "name": "stdout",
     "output_type": "stream",
     "text": [
      "        Rank  Year  NA_Sales  EU_Sales  JP_Sales  Other_Sales  Global_Sales  \\\n",
      "0          1  2006     41.49     29.02      3.77         8.46         82.74   \n",
      "1          2  1985     29.08      3.58      6.81         0.77         40.24   \n",
      "2          3  2008     15.85     12.88      3.79         3.31         35.82   \n",
      "3          4  2009     15.75     11.01      3.28         2.96         33.00   \n",
      "4          5  1996     11.27      8.89     10.22         1.00         31.37   \n",
      "...      ...   ...       ...       ...       ...          ...           ...   \n",
      "16588  16591  2008      0.01      0.00      0.00         0.00          0.01   \n",
      "16591  16594  2004      0.01      0.00      0.00         0.00          0.01   \n",
      "16592  16595  2008      0.01      0.00      0.00         0.00          0.01   \n",
      "16594  16597  2003      0.01      0.00      0.00         0.00          0.01   \n",
      "16595  16598  2008      0.00      0.00      0.00         0.00          0.01   \n",
      "\n",
      "      Rank_Category  Publisher_3DO  Publisher_505 Games  ...  Platform_SAT  \\\n",
      "0         Very High            0.0                  0.0  ...           0.0   \n",
      "1         Very High            0.0                  0.0  ...           0.0   \n",
      "2         Very High            0.0                  0.0  ...           0.0   \n",
      "3         Very High            0.0                  0.0  ...           0.0   \n",
      "4         Very High            0.0                  0.0  ...           0.0   \n",
      "...             ...            ...                  ...  ...           ...   \n",
      "16588      Very Low            0.0                  0.0  ...           0.0   \n",
      "16591      Very Low            0.0                  0.0  ...           0.0   \n",
      "16592      Very Low            0.0                  0.0  ...           0.0   \n",
      "16594      Very Low            0.0                  0.0  ...           0.0   \n",
      "16595      Very Low            0.0                  0.0  ...           0.0   \n",
      "\n",
      "       Platform_SCD  Platform_SNES  Platform_TG16  Platform_WS  Platform_Wii  \\\n",
      "0               0.0            0.0            0.0          0.0           1.0   \n",
      "1               0.0            0.0            0.0          0.0           0.0   \n",
      "2               0.0            0.0            0.0          0.0           1.0   \n",
      "3               0.0            0.0            0.0          0.0           1.0   \n",
      "4               0.0            0.0            0.0          0.0           0.0   \n",
      "...             ...            ...            ...          ...           ...   \n",
      "16588           0.0            0.0            0.0          0.0           0.0   \n",
      "16591           0.0            0.0            0.0          0.0           0.0   \n",
      "16592           0.0            0.0            0.0          0.0           0.0   \n",
      "16594           0.0            0.0            0.0          0.0           0.0   \n",
      "16595           0.0            0.0            0.0          0.0           0.0   \n",
      "\n",
      "       Platform_WiiU  Platform_X360  Platform_XB  Platform_XOne  \n",
      "0                0.0            0.0          0.0            0.0  \n",
      "1                0.0            0.0          0.0            0.0  \n",
      "2                0.0            0.0          0.0            0.0  \n",
      "3                0.0            0.0          0.0            0.0  \n",
      "4                0.0            0.0          0.0            0.0  \n",
      "...              ...            ...          ...            ...  \n",
      "16588            0.0            0.0          0.0            0.0  \n",
      "16591            0.0            0.0          0.0            0.0  \n",
      "16592            0.0            0.0          0.0            0.0  \n",
      "16594            0.0            0.0          0.0            0.0  \n",
      "16595            0.0            0.0          0.0            0.0  \n",
      "\n",
      "[13806 rows x 110 columns]\n"
     ]
    }
   ],
   "source": [
    "\n",
    "columns_to_drop = ['Name', 'Platform', 'Publisher', 'Genre']\n",
    "vg_sales_ready = vg_sales_encoded.drop(columns=columns_to_drop, errors='ignore')\n",
    "\n",
    "#print(vg_sales_ready.columns)\n",
    "print(vg_sales_ready)\n",
    "#check all is numerical\n"
   ]
  },
  {
   "cell_type": "code",
   "execution_count": 17,
   "metadata": {},
   "outputs": [
    {
     "name": "stdout",
     "output_type": "stream",
     "text": [
      "['Rank', 'Year', 'NA_Sales', 'EU_Sales', 'JP_Sales', 'Other_Sales', 'Global_Sales', 'Rank_Category', 'Publisher_3DO', 'Publisher_505 Games', 'Publisher_5pb', 'Publisher_Acclaim Entertainment', 'Publisher_Activision', 'Publisher_Alchemist', 'Publisher_Atari', 'Publisher_Atlus', 'Publisher_BAM! Entertainment', 'Publisher_Banpresto', 'Publisher_Bethesda Softworks', 'Publisher_Capcom', 'Publisher_Codemasters', 'Publisher_Crave Entertainment', 'Publisher_D3Publisher', 'Publisher_DTP Entertainment', 'Publisher_Deep Silver', 'Publisher_Destineer', 'Publisher_Disney Interactive Studios', 'Publisher_Eidos Interactive', 'Publisher_Electronic Arts', 'Publisher_Empire Interactive', 'Publisher_Focus Home Interactive', 'Publisher_GT Interactive', 'Publisher_Global Star', 'Publisher_Hudson Soft', 'Publisher_Idea Factory', 'Publisher_Ignition Entertainment', 'Publisher_Infogrames', 'Publisher_Kadokawa Shoten', 'Publisher_Konami Digital Entertainment', 'Publisher_LucasArts', 'Publisher_MTV Games', 'Publisher_Majesco Entertainment', 'Publisher_Marvelous Interactive', 'Publisher_Microsoft Game Studios', 'Publisher_Midway Games', 'Publisher_Namco Bandai Games', 'Publisher_Nintendo', 'Publisher_Nippon Ichi Software', 'Publisher_Nordic Games', 'Publisher_PQube', 'Publisher_Rising Star Games', 'Publisher_Sega', 'Publisher_Sony Computer Entertainment', 'Publisher_SouthPeak Games', 'Publisher_Spike', 'Publisher_Square Enix', 'Publisher_SquareSoft', 'Publisher_TDK Mediactive', 'Publisher_THQ', 'Publisher_Takara Tomy', 'Publisher_Take-Two Interactive', 'Publisher_Tecmo Koei', 'Publisher_Ubisoft', 'Publisher_Unknown', 'Publisher_Virgin Interactive', 'Publisher_Vivendi Games', 'Publisher_Warner Bros. Interactive Entertainment', 'Publisher_Zoo Digital Publishing', 'Genre_Action', 'Genre_Adventure', 'Genre_Fighting', 'Genre_Misc', 'Genre_Platform', 'Genre_Puzzle', 'Genre_Racing', 'Genre_Role-Playing', 'Genre_Shooter', 'Genre_Simulation', 'Genre_Sports', 'Genre_Strategy', 'Platform_2600', 'Platform_3DO', 'Platform_3DS', 'Platform_DC', 'Platform_DS', 'Platform_GB', 'Platform_GBA', 'Platform_GC', 'Platform_GEN', 'Platform_GG', 'Platform_N64', 'Platform_NES', 'Platform_NG', 'Platform_PC', 'Platform_PS', 'Platform_PS2', 'Platform_PS3', 'Platform_PS4', 'Platform_PSP', 'Platform_PSV', 'Platform_SAT', 'Platform_SCD', 'Platform_SNES', 'Platform_TG16', 'Platform_WS', 'Platform_Wii', 'Platform_WiiU', 'Platform_X360', 'Platform_XB', 'Platform_XOne']\n"
     ]
    }
   ],
   "source": [
    "print(list(vg_sales_ready.columns))\n"
   ]
  },
  {
   "cell_type": "code",
   "execution_count": 18,
   "metadata": {},
   "outputs": [],
   "source": [
    "vg_sales_ready = vg_sales_ready[vg_sales_ready['Global_Sales'] != 82.74]"
   ]
  },
  {
   "cell_type": "code",
   "execution_count": 19,
   "metadata": {},
   "outputs": [
    {
     "name": "stdout",
     "output_type": "stream",
     "text": [
      "False\n"
     ]
    }
   ],
   "source": [
    "all_numeric = vg_sales_ready.select_dtypes(include=['number']).shape[1] == vg_sales_ready.shape[1]\n",
    "\n",
    "print(all_numeric)"
   ]
  }
 ],
 "metadata": {
  "kernelspec": {
   "display_name": "Python 3",
   "language": "python",
   "name": "python3"
  },
  "language_info": {
   "codemirror_mode": {
    "name": "ipython",
    "version": 3
   },
   "file_extension": ".py",
   "mimetype": "text/x-python",
   "name": "python",
   "nbconvert_exporter": "python",
   "pygments_lexer": "ipython3",
   "version": "3.13.0"
  }
 },
 "nbformat": 4,
 "nbformat_minor": 2
}
